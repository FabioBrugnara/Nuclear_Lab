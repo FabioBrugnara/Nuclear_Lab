{
 "cells": [
  {
   "cell_type": "code",
   "execution_count": 3,
   "metadata": {},
   "outputs": [],
   "source": [
    "%jsroot off\n",
    "TString FileName1 = \"./simulations/0.root\";\n",
    "TString FileName2 = \"./simulations/10.root\";\n",
    "TString FileName3 = \"./simulations/20.root\";\n",
    "TString FileName4 = \"./simulations/30.root\";\n",
    "TString FileName5 = \"./simulations/40.root\";\n",
    "TString FileName6 = \"./simulations/50.root\";\n",
    "TString FileName7 = \"./simulations/60.root\";\n",
    "\n",
    "TFile *deg0  = TFile::Open(FileName1);\n",
    "TFile *deg10  = TFile::Open(FileName2);\n",
    "TFile *deg20  = TFile::Open(FileName3);\n",
    "TFile *deg30  = TFile::Open(FileName4);\n",
    "TFile *deg40  = TFile::Open(FileName5);\n",
    "TFile *deg50  = TFile::Open(FileName6);\n",
    "TFile *deg60  = TFile::Open(FileName7);\n",
    "\n",
    "TTree *Tdeg0  = (TTree*) deg0  -> Get(\"T\");\n",
    "TTree *Tdeg10  = (TTree*) deg10  -> Get(\"T\");\n",
    "TTree *Tdeg20  = (TTree*) deg20  -> Get(\"T\");\n",
    "TTree *Tdeg30  = (TTree*) deg30  -> Get(\"T\");\n",
    "TTree *Tdeg40  = (TTree*) deg40  -> Get(\"T\");\n",
    "TTree *Tdeg50  = (TTree*) deg50  -> Get(\"T\");\n",
    "TTree *Tdeg60  = (TTree*) deg60  -> Get(\"T\");\n",
    "\n",
    "int NEntries [7];\n",
    "\n",
    "NEntries[0] = Tdeg0 -> GetEntries();\n",
    "NEntries[1] = Tdeg10 -> GetEntries();\n",
    "NEntries[2] = Tdeg20 -> GetEntries();\n",
    "NEntries[3] = Tdeg30 -> GetEntries();\n",
    "NEntries[4] = Tdeg40 -> GetEntries();\n",
    "NEntries[5] = Tdeg50 -> GetEntries();\n",
    "NEntries[6] = Tdeg60 -> GetEntries();\n"
   ]
  },
  {
   "cell_type": "code",
   "execution_count": 4,
   "metadata": {},
   "outputs": [
    {
     "data": {
      "image/png": "[encoded data removed]",
      "text/plain": [
       "<IPython.core.display.Image object>"
      ]
     },
     "metadata": {},
     "output_type": "display_data"
    },
    {
     "name": "stdout",
     "output_type": "stream",
     "text": [
      " FCN=1.00663 FROM MIGRAD    STATUS=CONVERGED      48 CALLS          49 TOTAL\n",
      "                     EDM=3.79018e-08    STRATEGY= 1      ERROR MATRIX ACCURATE \n",
      "  EXT PARAMETER                                   STEP         FIRST   \n",
      "  NO.   NAME      VALUE            ERROR          SIZE      DERIVATIVE \n",
      "   1  p0          -7.21684e-04   1.23024e-04   3.72935e-08   2.19864e+00\n",
      "   2  p1           6.83159e-03   1.95635e-04   5.93121e-08  -2.74585e-02\n"
     ]
    }
   ],
   "source": [
    "\n",
    "int NTot = 200000;\n",
    "\n",
    "\n",
    "double ThetaDeg[7] = {0., 10., 20., 30., 40., 50., 60.};\n",
    "\n",
    "\n",
    "double cosTheta[7];\n",
    "double dcosTheta[7] = {0.01,0.01,0.01,0.01,0.01,0.01,0.01};\n",
    "double flux[7];\n",
    "double dflux[7];\n",
    "\n",
    "for(int i = 0; i < 7; ++i)\n",
    "{\n",
    "    flux[i] = ((double) NEntries[i])/((double) NTot);\n",
    "    dflux[i] = TMath::Sqrt(NEntries[i])/NTot;\n",
    "    cosTheta[i] = pow(TMath::Cos(ThetaDeg[i] * TMath::Pi() / 180.),2);\n",
    "}\n",
    "\n",
    "\n",
    "TGraphErrors *gr = new TGraphErrors(7, cosTheta, flux,dcosTheta, dflux);\n",
    "TCanvas *c1 = new TCanvas();\n",
    "gr -> Draw(\"AP\");\n",
    "\n",
    "TF1 *f1 = new TF1(\"f1\", \"[0] + [1]*x\", 0 ,1);\n",
    "//f1->SetParameter(1,0.008);\n",
    "f1->SetParameter(1,0.008);\n",
    "\n",
    "gr -> Fit(f1);\n",
    "gPad -> SetGrid();\n",
    "\n",
    "c1->Draw();\n"
   ]
  },
  {
   "cell_type": "code",
   "execution_count": null,
   "metadata": {},
   "outputs": [],
   "source": []
  }
 ],
 "metadata": {
  "kernelspec": {
   "display_name": "ROOT C++",
   "language": "c++",
   "name": "root"
  },
  "language_info": {
   "codemirror_mode": "text/x-c++src",
   "file_extension": ".C",
   "mimetype": " text/x-c++src",
   "name": "c++"
  },
  "orig_nbformat": 4
 },
 "nbformat": 4,
 "nbformat_minor": 2
}
