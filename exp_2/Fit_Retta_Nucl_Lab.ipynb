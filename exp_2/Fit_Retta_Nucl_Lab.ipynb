{
 "cells": [
  {
   "cell_type": "code",
   "execution_count": 1,
   "metadata": {},
   "outputs": [],
   "source": [
    "import matplotlib.pyplot as plt\n",
    "import numpy as np\n",
    "import scipy as sy\n",
    "from scipy.optimize import curve_fit"
   ]
  },
  {
   "cell_type": "code",
   "execution_count": 2,
   "metadata": {},
   "outputs": [],
   "source": [
    "rate_1 = 4504/1175\n",
    "cos_theta_1 = 1\n",
    "rate_2 = 5342/1402\n",
    "cos_theta_2 = 1\n",
    "rate_3 = 713/2254\n",
    "cos_theta_3 = 0\n",
    "rate_4 = 1001/2092\n",
    "cos_theta_4 = 0.24328859\n",
    "rate_5 = 1001/738\n",
    "cos_theta_5 = 0.5788\n",
    "rate_6 = 1354/441\n",
    "cos_theta_6 = 0.91482691\n",
    "rate_7 = 2411/688\n",
    "cos_theta_7 = 0.98490831\n",
    "rate_8 = 2328/643\n",
    "cos_theta_8 = 0.99215674\n",
    "\n",
    "rate = np.array([rate_1, rate_2, rate_3, rate_4, rate_5, rate_6, rate_7])\n",
    "cos_theta = np.array([cos_theta_1, cos_theta_2, cos_theta_3, cos_theta_4, cos_theta_5, cos_theta_6, cos_theta_7])\n",
    "\n",
    "cos_theta_sq = []\n",
    "\n",
    "for angle in cos_theta:\n",
    "    cos_theta_sq = np.append(cos_theta_sq, angle*angle)\n",
    "    \n"
   ]
  },
  {
   "cell_type": "code",
   "execution_count": 3,
   "metadata": {},
   "outputs": [],
   "source": [
    "rate_r = np.array([rate_1, rate_2, rate_4, rate_5, rate_6, rate_7])\n",
    "cos_theta_r = np.array([cos_theta_1, cos_theta_2, cos_theta_4, cos_theta_5, cos_theta_6, cos_theta_7])\n",
    "\n",
    "\n",
    "cos_theta_sq_r = []\n",
    "for angle in cos_theta_r:\n",
    "    cos_theta_sq_r = np.append(cos_theta_sq_r, angle*angle)"
   ]
  },
  {
   "cell_type": "code",
   "execution_count": 4,
   "metadata": {},
   "outputs": [],
   "source": [
    "def f(x, m, b):\n",
    "    return m*x + b"
   ]
  },
  {
   "cell_type": "code",
   "execution_count": 5,
   "metadata": {},
   "outputs": [],
   "source": [
    "sigma = []\n",
    "for r in rate_r:\n",
    "    sigma = np.append(sigma, 0.1)"
   ]
  },
  {
   "cell_type": "code",
   "execution_count": 6,
   "metadata": {},
   "outputs": [],
   "source": [
    "opt_par, cov = curve_fit(f, cos_theta_sq_r, rate_r, sigma = sigma)"
   ]
  },
  {
   "cell_type": "code",
   "execution_count": 7,
   "metadata": {},
   "outputs": [
    {
     "data": {
      "text/plain": [
       "array([3.50076357, 0.22428966])"
      ]
     },
     "execution_count": 7,
     "metadata": {},
     "output_type": "execute_result"
    }
   ],
   "source": [
    "opt_par"
   ]
  },
  {
   "cell_type": "code",
   "execution_count": 8,
   "metadata": {},
   "outputs": [
    {
     "name": "stdout",
     "output_type": "stream",
     "text": [
      "error on m parameter =  0.11516030873569523\n",
      "error on b parameter =  0.0911288011233535\n"
     ]
    }
   ],
   "source": [
    "print(\"error on m parameter = \", np.sqrt(cov[0][0]))\n",
    "print(\"error on b parameter = \", np.sqrt(cov[1][1]))"
   ]
  },
  {
   "cell_type": "code",
   "execution_count": 9,
   "metadata": {},
   "outputs": [
    {
     "name": "stdout",
     "output_type": "stream",
     "text": [
      "slope of straight line =  3.500763569393451\n",
      "intercept of straight line = 0.224289657306716\n"
     ]
    },
    {
     "data": {
      "text/plain": [
       "Text(0, 0.5, 'Rate[Hz]')"
      ]
     },
     "execution_count": 9,
     "metadata": {},
     "output_type": "execute_result"
    },
    {
     "data": {
      "image/png": "[encoded data removed]",
      "text/plain": [
       "<Figure size 432x288 with 1 Axes>"
      ]
     },
     "metadata": {
      "needs_background": "light"
     },
     "output_type": "display_data"
    }
   ],
   "source": [
    "m, b = np.polyfit(cos_theta_sq_r, rate_r, 1)\n",
    "plt.plot(cos_theta_sq_r, rate_r, 'o')\n",
    "plt.plot(cos_theta_sq_r, m*cos_theta_sq_r + b)\n",
    "print(\"slope of straight line = \", m)\n",
    "print(\"intercept of straight line =\", b)\n",
    "plt.grid()\n",
    "plt.xlabel(\"cos(theta) squared\")\n",
    "plt.ylabel(\"Rate[Hz]\")"
   ]
  }
 ],
 "metadata": {
  "kernelspec": {
   "display_name": "Python 3",
   "language": "python",
   "name": "python3"
  },
  "language_info": {
   "codemirror_mode": {
    "name": "ipython",
    "version": 3
   },
   "file_extension": ".py",
   "mimetype": "text/x-python",
   "name": "python",
   "nbconvert_exporter": "python",
   "pygments_lexer": "ipython3",
   "version": "3.8.5"
  }
 },
 "nbformat": 4,
 "nbformat_minor": 4
}
